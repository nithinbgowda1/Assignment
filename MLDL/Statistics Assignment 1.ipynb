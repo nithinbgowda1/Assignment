{
 "cells": [
  {
   "cell_type": "markdown",
   "metadata": {},
   "source": [
    "#### Below are fews lines of code to solve the questions\n",
    "<b>Note:</b>\n",
    "    Questions in the file is manually and programattically solved"
   ]
  },
  {
   "cell_type": "code",
   "execution_count": 123,
   "metadata": {},
   "outputs": [],
   "source": [
    "import math"
   ]
  },
  {
   "cell_type": "code",
   "execution_count": 124,
   "metadata": {},
   "outputs": [],
   "source": [
    "class CentralTedency: \n",
    "    \n",
    "        def __init__(self):\n",
    "            print(\"This is printing Mean, Median,Mode\")\n",
    "            \n",
    "        \n",
    "        def inputdata(self):\n",
    "            \"\"\"\n",
    "            This function takes the value from user and also converts the value from string to integer dataset list\n",
    "            \"\"\"\n",
    "            data = input(\"Enter data: \")\n",
    "            replace_data = data.replace(\" \",\",\")\n",
    "            split_data = replace_data.split(',')\n",
    "            list_numbers = [int(split_data[i]) for i in range(0,len(split_data))]\n",
    "            return list_numbers\n",
    "    \n",
    "        def mean_of_number(self,list_numbers):\n",
    "            \"\"\"\n",
    "            This function is used to get the mean of the number from provided list of number\n",
    "            \"\"\"\n",
    "            sum_of_number = sum(i for i in list_numbers)\n",
    "            mean = sum_of_number/len(list_numbers)\n",
    "            return mean  \n",
    "        \n",
    "        def median_of_number(self,list_numbers):\n",
    "            \"\"\"\n",
    "            #This function helps to find median of the number\n",
    "            \"\"\"\n",
    "            list_numbers.sort()\n",
    "            mid_index = math.ceil(len(list_numbers)/2)\n",
    "            mid_index_1 = math.ceil((len(list_numbers)+1)/2)\n",
    "            if len(list_numbers)%2 == 0: \n",
    "                median = (list_numbers[mid_index] + list_numbers[mid_index_1])/2\n",
    "            else: \n",
    "                median = list_numbers[mid_index]\n",
    "            return median\n",
    "        \n",
    "        def mode_of_number(self,list_numbers):\n",
    "            list_numbers.sort()\n",
    "            count_dict = dict()\n",
    "            for i in list_numbers:\n",
    "                count_dict.setdefault(i,0)\n",
    "                if i in count_dict.keys(): count_dict[i] = count_dict[i] + 1\n",
    "            for k,v in count_dict.items():\n",
    "                if v == max(count_dict.values()):\n",
    "                    mode = k\n",
    "            return mode\n",
    "        \n",
    "         "
   ]
  },
  {
   "cell_type": "code",
   "execution_count": 125,
   "metadata": {},
   "outputs": [
    {
     "name": "stdout",
     "output_type": "stream",
     "text": [
      "This is printing Mean, Median,Mode\n"
     ]
    }
   ],
   "source": [
    "central_ted_obj = CentralTedency()"
   ]
  },
  {
   "cell_type": "markdown",
   "metadata": {},
   "source": [
    "<pre><h4>\n",
    "Problem Statement 1: </h4> \n",
    "\n",
    "The marks awarded for an assignment set for a Year 8 class of 20 students were as  follows: \n",
    "6 7 5 7 7 8 7 6 9 7 4 10 6 8 8 9 5 6 4 8 \n",
    "</pre>"
   ]
  },
  {
   "cell_type": "markdown",
   "metadata": {},
   "source": [
    "<h4>Solution for Problem Statement 1 (program and manually)</h4>\n",
    "<pre>\n",
    "x = 6   7\t5\t7\t7\t8\t7\t6\t9\t7\t4\t10\t6\t8\t8\t9\t5\t6\t4\t8\t\n",
    "<b>Total sum of x</b> = 137\n",
    "<b>Mean=</b> (sum of all number/total number of data) = 137/20 = 6.85\n",
    "<b>x sorting in ascending order</b> = 4  4\t5\t5\t6\t6\t6\t6\t7\t7\t7\t7\t7\t8\t8\t8\t8\t9\t9\t10\n",
    "<b>Median=</b> 7+7/2 = 7\n",
    "<b>Mode=</b> Highest frequency number = 7\n",
    "</pre>\n",
    "\n",
    "\n"
   ]
  },
  {
   "cell_type": "code",
   "execution_count": 131,
   "metadata": {},
   "outputs": [
    {
     "name": "stdout",
     "output_type": "stream",
     "text": [
      "Enter data: 6 7 5 7 7 8 7 6 9 7 4 10 6 8 8 9 5 6 4 8\n",
      "\n",
      "Mean of given dataset is:  6.85\n",
      "\n",
      "Median of given dataset is:7.00\n",
      "\n",
      "Mode of given dataset is: 7\n"
     ]
    }
   ],
   "source": [
    "#Programatically :\n",
    "\n",
    "list_numbers = central_ted_obj.inputdata()\n",
    "\n",
    "print(\"\\nMean of given dataset is: \",central_ted_obj.mean_of_number(list_numbers))\n",
    "print(\"\\nMedian of given dataset is:{0:.2f}\".format(central_ted_obj.median_of_number(list_numbers)))\n",
    "print(\"\\nMode of given dataset is:\",central_ted_obj.mode_of_number(list_numbers))\n"
   ]
  },
  {
   "cell_type": "markdown",
   "metadata": {},
   "source": [
    "<pre><b>\n",
    "Problem Statement 2: </b> \n",
    "The number of calls from motorists per day for roadside service was recorded for a  particular month: \n",
    "28, 122, 217, 130, 120, 86, 80, 90, 140, 120, 70, 40, 145, 113, 90, 68, 174, 194, 170,  100, 75, 104, 97, 75, \n",
    "123, 100, 75, 104, 97, 75, 123, 100, 89, 120, 109 \n",
    "</pre>"
   ]
  },
  {
   "cell_type": "code",
   "execution_count": 134,
   "metadata": {},
   "outputs": [
    {
     "name": "stdout",
     "output_type": "stream",
     "text": [
      "\n",
      "Mean of given dataset is:  107.51428571428572\n",
      "\n",
      "Median of given dataset is:104.00\n",
      "\n",
      "Mode of given dataset is: 75\n"
     ]
    }
   ],
   "source": [
    "# Problem Statemnet 2 Solution:\n",
    "\n",
    "#list_number_2 = central_ted_obj.inputdata()\n",
    "list_number_2 = [28, 122, 217, 130, 120, 86, 80, 90, 140, 120, 70, 40, 145, 113, 90, 68, 174, 194, 170,  100, 75, 104, 97, 75, \n",
    "123, 100, 75, 104, 97, 75, 123, 100, 89, 120, 109]\n",
    "print(\"\\nMean of given dataset is: \",central_ted_obj.mean_of_number(list_number_2))\n",
    "print(\"\\nMedian of given dataset is:{0:.2f}\".format(central_ted_obj.median_of_number(list_number_2)))\n",
    "print(\"\\nMode of given dataset is:\",central_ted_obj.mode_of_number(list_number_2))"
   ]
  },
  {
   "cell_type": "markdown",
   "metadata": {},
   "source": [
    "<pre>\n",
    "<b>Problem Statement 3:</b>\n",
    "The number of times I go to the gym in weekdays, are given below along with its  associated probability: \n",
    "x = 0, 1, 2, 3, 4, 5 \n",
    "f(x) = 0.09, 0.15, 0.40, 0.25, 0.10, 0.01 \n",
    "Calculate the mean no. of workouts in a week. Also evaluate the variance involved in  it.     \n",
    "</pre>"
   ]
  },
  {
   "cell_type": "code",
   "execution_count": null,
   "metadata": {},
   "outputs": [],
   "source": []
  }
 ],
 "metadata": {
  "kernelspec": {
   "display_name": "Python 3",
   "language": "python",
   "name": "python3"
  },
  "language_info": {
   "codemirror_mode": {
    "name": "ipython",
    "version": 3
   },
   "file_extension": ".py",
   "mimetype": "text/x-python",
   "name": "python",
   "nbconvert_exporter": "python",
   "pygments_lexer": "ipython3",
   "version": "3.8.3"
  }
 },
 "nbformat": 4,
 "nbformat_minor": 4
}
