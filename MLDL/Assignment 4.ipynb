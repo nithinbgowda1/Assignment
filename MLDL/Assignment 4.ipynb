{
 "cells": [
  {
   "cell_type": "markdown",
   "metadata": {},
   "source": [
    "<b>1.1 Write a Python Program(with class concepts) to find the area of the triangle using the below  formula. <br>\n",
    "area = (s*(s-a)*(s-b)*(s-c)) ** 0.5 <br>\n",
    "Function to take the length of the sides of triangle from user should be defined in the parent  class and function to calculate the area should be defined in subclass. \n",
    "</b>"
   ]
  },
  {
   "cell_type": "code",
   "execution_count": 1,
   "metadata": {},
   "outputs": [],
   "source": [
    "import math"
   ]
  },
  {
   "cell_type": "code",
   "execution_count": 2,
   "metadata": {},
   "outputs": [],
   "source": [
    "#This is the base class\n",
    "\n",
    "class Triangle():\n",
    "    def __init__(self, side_1, side_2, side_3):\n",
    "        \"\"\"\n",
    "        This is base class init function which will accept sthe user given input to calculate the area of triangle\n",
    "        \"\"\"\n",
    "        self.side_1 = side_1\n",
    "        self.side_2 = side_2\n",
    "        self.side_3 = side_3\n",
    "        \n",
    "# This the child class or tye subclass\n",
    "\n",
    "class TriangleCalculate(Triangle):\n",
    "    def __init__(self,*args):\n",
    "        \"\"\"\n",
    "        This is child class init function\n",
    "        \"\"\"\n",
    "        super(TriangleCalculate,self).__init__(*args)\n",
    "    \n",
    "    def calculate_area(self):\n",
    "        \"\"\"\n",
    "        This function calculates the semiperter first and then the area of the triangle.\n",
    "        \"\"\"\n",
    "        semiperimeter = 0.5 * (self.side_1 + self.side_2 + self.side_3)\n",
    "        area = (semiperimeter * (semiperimeter - self.side_1) * (semiperimeter - self.side_2) * (semiperimeter - self.side_3))\n",
    "        return math.sqrt(area)        "
   ]
  },
  {
   "cell_type": "code",
   "execution_count": 3,
   "metadata": {
    "scrolled": true
   },
   "outputs": [
    {
     "name": "stdout",
     "output_type": "stream",
     "text": [
      "Enter side_1: 4\n",
      "Enter side_2: 5\n",
      "Enter side_3: 6\n"
     ]
    }
   ],
   "source": [
    "## Geeting inputs from users for the sides of triangle\n",
    "\n",
    "side_1 = int(input(\"Enter side_1: \"))\n",
    "side_2 = int(input(\"Enter side_2: \"))\n",
    "side_3 = int(input(\"Enter side_3: \"))"
   ]
  },
  {
   "cell_type": "code",
   "execution_count": 4,
   "metadata": {},
   "outputs": [],
   "source": [
    "## Initialization of object of child class\n",
    "\n",
    "area_obj = TriangleCalculate(side_1,side_2,side_3)"
   ]
  },
  {
   "cell_type": "code",
   "execution_count": 5,
   "metadata": {},
   "outputs": [
    {
     "data": {
      "text/plain": [
       "9.921567416492215"
      ]
     },
     "execution_count": 5,
     "metadata": {},
     "output_type": "execute_result"
    }
   ],
   "source": [
    "##Calling the function to calculate are of triangel\n",
    "\n",
    "area_obj.calculate_area()"
   ]
  },
  {
   "cell_type": "markdown",
   "metadata": {},
   "source": [
    "<br><b>2.  Write a function filter_long_words() that takes a list of words and an integer n and returns  the list of words that are longer than n. \n",
    "</b>"
   ]
  },
  {
   "cell_type": "code",
   "execution_count": 6,
   "metadata": {},
   "outputs": [],
   "source": [
    "def filter_long_words(list_of_words, n):\n",
    "    \"\"\"\n",
    "    This function takes list of words and return words which are longer than n\n",
    "    \"\"\"\n",
    "    try:\n",
    "        new_list = []\n",
    "        for word in list_of_words:\n",
    "            if len(word)>n:\n",
    "                new_list.append(word)\n",
    "        return new_list\n",
    "    except Exception as e:\n",
    "        raise Exception(\"Something went wrong on rendering the list of words which has the count greater than n.\\n\" + str(e))\n",
    "    "
   ]
  },
  {
   "cell_type": "code",
   "execution_count": 7,
   "metadata": {},
   "outputs": [],
   "source": [
    "list_of_words = [\"Kavita\",\"Maurya\",\"DataScience\",\"MachineLearning\",\"ArtificialIntelligence\",\"Python\",\"C++\"]"
   ]
  },
  {
   "cell_type": "code",
   "execution_count": 8,
   "metadata": {},
   "outputs": [
    {
     "data": {
      "text/plain": [
       "['DataScience', 'MachineLearning', 'ArtificialIntelligence']"
      ]
     },
     "execution_count": 8,
     "metadata": {},
     "output_type": "execute_result"
    }
   ],
   "source": [
    "filter_long_words(list_of_words,7)"
   ]
  },
  {
   "cell_type": "markdown",
   "metadata": {},
   "source": [
    "<br><b>3. Write a Python program using function concept that maps list of words into a list of integers  representing the lengths of the corresponding words. \n",
    "<br>Hint: If a list [ ab,cde,erty] is passed on to the python function output should come as [2,3,4] Here 2,3 and 4 are the lengths of the words in the list. </b>"
   ]
  },
  {
   "cell_type": "code",
   "execution_count": 9,
   "metadata": {},
   "outputs": [],
   "source": [
    "def list_index_integer_value(list_of_words):\n",
    "    \"\"\"\n",
    "    This function returns the length of words art particular index in the list form\n",
    "    \"\"\"\n",
    "    try:\n",
    "        list_of_count = []\n",
    "        for word in list_of_words:\n",
    "            list_of_count.append(len(word))\n",
    "        return list_of_count\n",
    "    except Exception as e:\n",
    "        raise Exception(\"Something went wrong on calculation of character on indexes of list.\\n\" + str(e))"
   ]
  },
  {
   "cell_type": "code",
   "execution_count": 10,
   "metadata": {},
   "outputs": [],
   "source": [
    "data = [\"Kavita\",\"Maurya\",\"Inueron\"]"
   ]
  },
  {
   "cell_type": "code",
   "execution_count": 11,
   "metadata": {},
   "outputs": [
    {
     "data": {
      "text/plain": [
       "[6, 6, 7]"
      ]
     },
     "execution_count": 11,
     "metadata": {},
     "output_type": "execute_result"
    }
   ],
   "source": [
    "list_index_integer_value(data)"
   ]
  },
  {
   "cell_type": "markdown",
   "metadata": {},
   "source": [
    "<br><b>\n",
    " Write a Python function which takes a character (i.e. a string of length 1) and returns True if  it is a vowel, False otherwise. </b>"
   ]
  },
  {
   "cell_type": "code",
   "execution_count": 12,
   "metadata": {},
   "outputs": [],
   "source": [
    "def check_vowel(char):\n",
    "    \"\"\"\n",
    "    This function checks whether the enterd string is a vowel or not.\n",
    "    \"\"\"\n",
    "    try:\n",
    "        if char == 'a' or char == 'A' or char == 'e' or char == 'E' or char == 'i' or char =='I' or char == 'e' or char == 'E' or char == 'u' or char == 'U':\n",
    "            return True\n",
    "        else:\n",
    "            return False\n",
    "    except Exception as e:\n",
    "        raise Exception(\"Something went wrong on checking for vowels.\\n\" + str(e))"
   ]
  },
  {
   "cell_type": "code",
   "execution_count": 13,
   "metadata": {},
   "outputs": [
    {
     "data": {
      "text/plain": [
       "True"
      ]
     },
     "execution_count": 13,
     "metadata": {},
     "output_type": "execute_result"
    }
   ],
   "source": [
    "check_vowel('I')"
   ]
  },
  {
   "cell_type": "code",
   "execution_count": 14,
   "metadata": {},
   "outputs": [
    {
     "data": {
      "text/plain": [
       "False"
      ]
     },
     "execution_count": 14,
     "metadata": {},
     "output_type": "execute_result"
    }
   ],
   "source": [
    "check_vowel(\"c\")"
   ]
  },
  {
   "cell_type": "code",
   "execution_count": null,
   "metadata": {},
   "outputs": [],
   "source": []
  }
 ],
 "metadata": {
  "kernelspec": {
   "display_name": "Python 3",
   "language": "python",
   "name": "python3"
  },
  "language_info": {
   "codemirror_mode": {
    "name": "ipython",
    "version": 3
   },
   "file_extension": ".py",
   "mimetype": "text/x-python",
   "name": "python",
   "nbconvert_exporter": "python",
   "pygments_lexer": "ipython3",
   "version": "3.8.3"
  }
 },
 "nbformat": 4,
 "nbformat_minor": 4
}
