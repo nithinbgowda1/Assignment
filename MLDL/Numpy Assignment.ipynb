{
 "cells": [
  {
   "cell_type": "code",
   "execution_count": 65,
   "metadata": {},
   "outputs": [],
   "source": [
    "import numpy as np\n"
   ]
  },
  {
   "cell_type": "markdown",
   "metadata": {},
   "source": [
    "<b>Problem Statement 1:</b> \n",
    "<br/>Write a function so that the columns of the output matrix are powers of the input vector. \n",
    "<br/><br/>The order of the powers is determined by the increasing boolean argument. Specifically, when  increasing is False, the i-th output column is the input vector raised element-wise to the power  of N - i - 1. \n",
    "<br/>HINT: Such a matrix with a geometric progression in each row is named for Alexandre Theophile Vandermonde. \n"
   ]
  },
  {
   "cell_type": "code",
   "execution_count": 66,
   "metadata": {},
   "outputs": [],
   "source": [
    "def AlexTheoVan(inp_vect,no_of_cols,increasing):\n",
    "    \"\"\"\n",
    "    This function returns the power of each elements provided as input in columns of matrix as output.\n",
    "    The power depends on number of columns passed as an input.\n",
    "    \n",
    "    Arguments or parameter needed are:\n",
    "    \n",
    "    input_vector: 1D array as an input\n",
    "    \n",
    "    no_of_cols: Number of columns required as an output\n",
    "    \n",
    "    increasing: boolean value.\n",
    "    This indicates whether if the matrix output should be displayed in increasing power of input provided or not.\n",
    "    \"\"\"\n",
    "    #Creating number of rows and columns for matrix\n",
    "    rows,cols = len(inp_vect),no_of_cols\n",
    "    \n",
    "    #Creating matrix using provided number of rows and columns\n",
    "    data = np.ones([rows,cols],dtype=int)\n",
    "    \n",
    "    matrix = np.mat(data)\n",
    "    \n",
    "    #Generating powered matrix\n",
    "    for col in range(cols):\n",
    "        index = 0\n",
    "        for  row in range(rows):\n",
    "            matrix[row,col] = inp_vect[index] ** (cols - col -1)\n",
    "            index = index + 1\n",
    "   \n",
    "            \n",
    "    #If increasing provided as True\n",
    "    if increasing is True: \n",
    "        swap = np.ones([rows,cols],dtype=int)\n",
    "        swap_matrix = np.mat(swap)\n",
    "        for col in range(cols):\n",
    "            for row in range(rows):\n",
    "                swap_matrix[row,col] = matrix[row,cols-col-1]\n",
    "        matrix = swap_matrix\n",
    "            \n",
    "    return matrix"
   ]
  },
  {
   "cell_type": "code",
   "execution_count": 67,
   "metadata": {
    "scrolled": true
   },
   "outputs": [
    {
     "data": {
      "text/plain": [
       "matrix([[  1,   1,   1,   1,   1],\n",
       "        [  1,   2,   4,   8,  16],\n",
       "        [  1,   3,   9,  27,  81],\n",
       "        [  1,   4,  16,  64, 256]])"
      ]
     },
     "execution_count": 67,
     "metadata": {},
     "output_type": "execute_result"
    }
   ],
   "source": [
    "AlexTheoVan(inp_vect=np.array([1,2,3,4]),no_of_cols=5,increasing=True)"
   ]
  },
  {
   "cell_type": "markdown",
   "metadata": {},
   "source": [
    "<br/><b>Problem Statement 2: </b><br/>\n",
    "Given a sequence of n values x1, x2, ..., xn and a window size k>0, the k-th moving average of  the given sequence is defined as<br/> follows: <br/>\n",
    "The moving average sequence has n-k+1 elements as shown below. <br/>\n",
    "The moving averages with k=4 of a ten-value sequence (n=10) is shown below <br/>\n",
    "i 1 2 3 4 5 6 7 8 9 10  <br/>\n",
    "===== == == == == == == == == == ==  <br/>\n",
    "Input 10 20 30 40 50 60 70 80 90 100  <br/> \n",
    "y1 25 = (10+20+30+40)/4  <br/>\n",
    "y2 35 = (20+30+40+50)/4  <br/>\n",
    "y3 45 = (30+40+50+60)/4  <br/>\n",
    "y4 55 = (40+50+60+70)/4  <br/>\n",
    "y5 65 = (50+60+70+80)/4  <br/>\n",
    "y6 75 = (60+70+80+90)/4  <br/>\n",
    "y7 85 = (70+80+90+100)/4  <br/>\n",
    "Thus, the moving average sequence has n-k+1=10-4+1=7 values. <br/>\n",
    "Question: Write a function to find moving average in an array over a window:  Test it over [3, 5, 7, 2, 8, 10, 11, 65, 72, 81, 99, 100, 150] and window of 3. \n"
   ]
  },
  {
   "cell_type": "code",
   "execution_count": 68,
   "metadata": {},
   "outputs": [],
   "source": [
    "def MeanForWindow(data,window):\n",
    "    \"\"\"\n",
    "    This function returns the mean of numbers from complete data provided based on windows size\n",
    "    \"\"\"\n",
    "    \n",
    "    #Calculating the moving average\n",
    "    moving_average = len(data) - window + 1\n",
    "    \n",
    "    #Generating data for printing the squence of number within window frame\n",
    "    frame_data = [str(data[i:i+window])for i in range(len(data))]\n",
    "    \n",
    "    #Calculating mean and formatting the output\n",
    "    \n",
    "    test = ['y{} '.format(str(i+1)) + '{:.2f} '.format(np.mean(data[i:i+window])) + '{}'.format(frame_data[i]).replace(', ','+').replace('[','(').replace(']',')') + \"/\" + str(window) for i in range(moving_average)]\n",
    "    \n",
    "    return test\n",
    "    "
   ]
  },
  {
   "cell_type": "code",
   "execution_count": 69,
   "metadata": {
    "scrolled": false
   },
   "outputs": [
    {
     "data": {
      "text/plain": [
       "['y1 5.00 (3+5+7)/3',\n",
       " 'y2 4.67 (5+7+2)/3',\n",
       " 'y3 5.67 (7+2+8)/3',\n",
       " 'y4 6.67 (2+8+10)/3',\n",
       " 'y5 9.67 (8+10+11)/3',\n",
       " 'y6 28.67 (10+11+65)/3',\n",
       " 'y7 49.33 (11+65+72)/3',\n",
       " 'y8 72.67 (65+72+81)/3',\n",
       " 'y9 84.00 (72+81+99)/3',\n",
       " 'y10 93.33 (81+99+100)/3',\n",
       " 'y11 116.33 (99+100+150)/3']"
      ]
     },
     "execution_count": 69,
     "metadata": {},
     "output_type": "execute_result"
    }
   ],
   "source": [
    " MeanForWindow([3, 5, 7, 2, 8, 10, 11, 65, 72, 81, 99, 100, 150],3)"
   ]
  },
  {
   "cell_type": "code",
   "execution_count": null,
   "metadata": {},
   "outputs": [],
   "source": []
  }
 ],
 "metadata": {
  "kernelspec": {
   "display_name": "Python 3",
   "language": "python",
   "name": "python3"
  },
  "language_info": {
   "codemirror_mode": {
    "name": "ipython",
    "version": 3
   },
   "file_extension": ".py",
   "mimetype": "text/x-python",
   "name": "python",
   "nbconvert_exporter": "python",
   "pygments_lexer": "ipython3",
   "version": "3.8.3"
  }
 },
 "nbformat": 4,
 "nbformat_minor": 4
}
