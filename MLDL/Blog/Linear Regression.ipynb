{
 "cells": [
  {
   "cell_type": "markdown",
   "metadata": {},
   "source": [
    "<b>What is Linear Regression?</b>"
   ]
  },
  {
   "cell_type": "markdown",
   "metadata": {},
   "source": [
    "Linear regression is supervised machine learning algorithm where the predicted values are continuous and has a constant slope.\n",
    "\n",
    "It is used to predict value in a continuous range. \n",
    "For eg: sales.\n",
    "\n",
    "\n",
    "    "
   ]
  },
  {
   "cell_type": "markdown",
   "metadata": {},
   "source": [
    "There are two main types of linear regression:\n",
    "    1. Simple Linear Regression.\n",
    "    2. Multivariable Regression."
   ]
  },
  {
   "cell_type": "markdown",
   "metadata": {},
   "source": [
    "<b>What is Simple Linear Regression</b>"
   ]
  },
  {
   "cell_type": "markdown",
   "metadata": {},
   "source": [
    "Simple linear regression involves only one feature column for prediction of label.\n",
    "\n",
    "It is represented in slope-intercept form as below:\n",
    "    \n",
    "    y = mx + c\n",
    "    \n",
    "    where,\n",
    "    y is the label(predicted result),\n",
    "    m and b, is the slope and intercept(coefficient) respectively\n",
    "    (these are the variable for which learning is performed by algorithm),\n",
    "    x is the feature(input data)\n"
   ]
  },
  {
   "cell_type": "markdown",
   "metadata": {},
   "source": [
    "<b>What is Multivariable Regression</b>"
   ]
  },
  {
   "cell_type": "markdown",
   "metadata": {},
   "source": [
    "Multivariable regression technique involves multiple features for prediction of label.\n",
    "\n",
    "The basic structure of multivariable can be represented as below:\n",
    "    \n",
    "    f(x,y,z) = m1x + m2y + m3z + c\n",
    "    \n",
    "    here,\n",
    "    m1, m2, m3, c: are the coefficients or weights our model tries to learn\n",
    "    x, y, z : are the independent variables(feature)\n",
    "    f(x,y,z) : is the predicted label \n",
    "    \n",
    "For e.g:\n",
    "    Prediction of Sales from Newspaper, TV, Radio can be represented as:\n",
    "        \n",
    "        Sales = m1Newspaper + m2TV + m3Radio + c\n",
    "        \n",
    "        m1, m2, m3, c : are the coefficient for which training will be performed.\n"
   ]
  },
  {
   "cell_type": "markdown",
   "metadata": {},
   "source": [
    "<b>Building blocks of linear regression model:</b>\n",
    "\n",
    "    1. Descrete/continuous independent variables.\n",
    "    2. Best fitted regression line\n",
    "    3. Continuous dependent variable.\n",
    "    "
   ]
  },
  {
   "cell_type": "markdown",
   "metadata": {},
   "source": [
    "To introduce the errror term in the regression equation it can be written as :\n",
    "    \n",
    "    y = mx + c + e\n",
    "    \n",
    "    where e now is introduced as a error term."
   ]
  },
  {
   "cell_type": "markdown",
   "metadata": {},
   "source": [
    "Learn more detailed concept and coding for simple linear regression.\n",
    "Click here:<a href=\"http://localhost:8888/notebooks/Desktop/Inueron/Inueron/Blog/Simple%20Linear%20Regression.ipynb\"> Simple Linear Regression</a>"
   ]
  },
  {
   "cell_type": "code",
   "execution_count": null,
   "metadata": {},
   "outputs": [],
   "source": []
  }
 ],
 "metadata": {
  "kernelspec": {
   "display_name": "Python 3",
   "language": "python",
   "name": "python3"
  },
  "language_info": {
   "codemirror_mode": {
    "name": "ipython",
    "version": 3
   },
   "file_extension": ".py",
   "mimetype": "text/x-python",
   "name": "python",
   "nbconvert_exporter": "python",
   "pygments_lexer": "ipython3",
   "version": "3.8.3"
  }
 },
 "nbformat": 4,
 "nbformat_minor": 4
}
