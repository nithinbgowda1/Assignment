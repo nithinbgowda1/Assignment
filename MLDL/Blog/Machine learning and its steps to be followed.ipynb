{
 "cells": [
  {
   "cell_type": "markdown",
   "metadata": {},
   "source": [
    "<b>What is machine learning?</b>"
   ]
  },
  {
   "cell_type": "markdown",
   "metadata": {},
   "source": [
    "Machine learning is the art of computer science where the machines are trained in order to perform some task based on the training provided to the machine.\n",
    "We can also refer Machine learning as study of computer algorithms, which improves automatically based on experience.\n",
    "It is considered as a part of Artifical Intelligence.\n",
    "Now-a-days machine learning has reached to a great trends and its scope is increasing beyond human imagination.\n",
    "Machine learning are used in our everyday life activity. Few examples can be like email-filtering(i.e. distinguishing between the spam email and actual email),computer vision etc."
   ]
  },
  {
   "cell_type": "markdown",
   "metadata": {},
   "source": [
    "Machine learning involves computational statistics, where the machine is used to make some kind of predictions. It is not mandatory that all machine learning is a statistic learning."
   ]
  },
  {
   "cell_type": "markdown",
   "metadata": {},
   "source": [
    "<b>What is computational statistics?</b>"
   ]
  },
  {
   "cell_type": "markdown",
   "metadata": {},
   "source": [
    "Computational statistics or statistical computing is inferace between statistics and computer science.\n",
    "It is the area of computational science specific to mathematical science of statistics."
   ]
  },
  {
   "cell_type": "markdown",
   "metadata": {},
   "source": [
    "<b>What are various machine learning approaches?</b>"
   ]
  },
  {
   "cell_type": "markdown",
   "metadata": {},
   "source": [
    "Machine learning approaches are broadly divided into three parts as below:\n",
    "    1. Supervised Learning.\n",
    "    2. Unsupervised Learning.\n",
    "    3. Semi-supervised"
   ]
  },
  {
   "cell_type": "markdown",
   "metadata": {},
   "source": [
    "<b>What is Supervised Learning?</b>"
   ]
  },
  {
   "cell_type": "markdown",
   "metadata": {},
   "source": [
    "In Supervised Learning computer are provided with the inputs as well as the desired output.\n",
    "\n",
    "The machine is then trained with these provided inputs and outputs and then it tries to predict the output using the input data provided.\n",
    "\n",
    "The predicted output is added as a new column in the data set and then there is comparsion made between the predict output column and desired output column, basically to investigate whether the model is predicting correctly or not.\n",
    "\n",
    "The input columns are termed as features and the output column which is to be predicted is termed as label\n",
    "\n",
    "For eg:\n",
    "\n",
    "Predicting the rate of menu's based on rating, location of hotels\n",
    "Here, Rate's of menu can be termed as label as it will be predicted by the model \n",
    "where as location and rating is the feature that is input data which is used for prediction."
   ]
  },
  {
   "cell_type": "code",
   "execution_count": null,
   "metadata": {},
   "outputs": [],
   "source": [
    " "
   ]
  }
 ],
 "metadata": {
  "kernelspec": {
   "display_name": "Python 3",
   "language": "python",
   "name": "python3"
  },
  "language_info": {
   "codemirror_mode": {
    "name": "ipython",
    "version": 3
   },
   "file_extension": ".py",
   "mimetype": "text/x-python",
   "name": "python",
   "nbconvert_exporter": "python",
   "pygments_lexer": "ipython3",
   "version": "3.8.3"
  }
 },
 "nbformat": 4,
 "nbformat_minor": 4
}
