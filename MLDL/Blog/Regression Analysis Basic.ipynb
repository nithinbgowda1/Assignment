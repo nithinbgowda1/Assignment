{
 "cells": [
  {
   "cell_type": "markdown",
   "metadata": {},
   "source": [
    "To learn about machine learning first click here: <a href=\"http://localhost:8888/notebooks/Desktop/Inueron/Inueron/Blog/Machine%20learning%20and%20its%20steps%20to%20be%20followed.ipynb\"> Machine Learning</a>"
   ]
  },
  {
   "cell_type": "markdown",
   "metadata": {},
   "source": [
    "<b>What is Regression Analysis?</b>"
   ]
  },
  {
   "cell_type": "markdown",
   "metadata": {},
   "source": [
    "Regression Analysis involves prediction of output data(Labels) with the help of input data(Features).\n",
    "\n",
    "The output data is dependent Variable where as the input data provided must be independent variable. \n",
    "\n",
    "Regression can be used for time series modelling.\n",
    "\n",
    "<b>For eg:</b> Finding relationship between the sales of company(Grocery store) and some particular products(Food essential, Kitchen essentials, etc.)\n",
    "\n",
    "Regression analysis is important tool for analysing and modelling the data.\n",
    "\n",
    "Line/Curve are used to fit to the data points such a manner that the difference between the actual data point from the plotted line/curve is as minimum as possible."
   ]
  },
  {
   "cell_type": "markdown",
   "metadata": {},
   "source": [
    "<b>What is dependent and independent variable?</b>"
   ]
  },
  {
   "cell_type": "markdown",
   "metadata": {},
   "source": [
    "Dependent variables are those variable which has dependency on some other related variable.\n",
    "\n",
    "<b>For eg:</b> Speed.<br/>\n",
    "    For calculating speed it requires the distance and time to be known.<br/>\n",
    "    Once the distance and time is known we can apply the speed formula<br/>\n",
    "            Speed = Distance/Time.<br/>\n",
    "    We can then get the speed for particular time and distance.<br/>\n",
    "\n",
    "Independent variables are the variable which has no dependency on any other variable.\n",
    "\n",
    "In the above example itself distance and time can be considered as independent variable."
   ]
  },
  {
   "cell_type": "markdown",
   "metadata": {},
   "source": [
    "<b>Where can be regression analysis used</b>"
   ]
  },
  {
   "cell_type": "markdown",
   "metadata": {},
   "source": [
    "The benefits of using Regression analysis is :\n",
    "    \n",
    "    1. It shows the significant relationship between label and features.\n",
    "    2. It can be use to measure the effects even if the variables are on different scale.\n",
    "    3. It shows the impact of multiple independent variables on dependent variable.\n",
    "    \n",
    "These analysis enable data scientist to find the best set of independent variable for predictions."
   ]
  },
  {
   "cell_type": "markdown",
   "metadata": {},
   "source": [
    "To learn more on Linear Regression click here: <a href=\"http://localhost:8888/notebooks/Desktop/Inueron/Inueron/Blog/Linear%20Regression.ipynb\">Linear Regression</a>"
   ]
  },
  {
   "cell_type": "code",
   "execution_count": null,
   "metadata": {},
   "outputs": [],
   "source": []
  }
 ],
 "metadata": {
  "kernelspec": {
   "display_name": "Python 3",
   "language": "python",
   "name": "python3"
  },
  "language_info": {
   "codemirror_mode": {
    "name": "ipython",
    "version": 3
   },
   "file_extension": ".py",
   "mimetype": "text/x-python",
   "name": "python",
   "nbconvert_exporter": "python",
   "pygments_lexer": "ipython3",
   "version": "3.8.3"
  }
 },
 "nbformat": 4,
 "nbformat_minor": 4
}
