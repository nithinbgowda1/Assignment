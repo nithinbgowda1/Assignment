{
 "cells": [
  {
   "cell_type": "markdown",
   "metadata": {},
   "source": [
    "<b>Write a function to compute 5/0 and use try/except to catch the exceptions. </b>"
   ]
  },
  {
   "cell_type": "code",
   "execution_count": 1,
   "metadata": {},
   "outputs": [],
   "source": [
    "def divide_by_zero():\n",
    "    \"\"\"\n",
    "    This function catches the divide by 0 exception\n",
    "    \"\"\"\n",
    "    try:\n",
    "        number = 5/0\n",
    "    except Exception as e:\n",
    "        print(\"Something went wrong on division.\\n\" + str(e))"
   ]
  },
  {
   "cell_type": "code",
   "execution_count": 2,
   "metadata": {},
   "outputs": [
    {
     "name": "stdout",
     "output_type": "stream",
     "text": [
      "Something went wrong on division.\n",
      "division by zero\n"
     ]
    }
   ],
   "source": [
    "divide_by_zero()"
   ]
  },
  {
   "cell_type": "markdown",
   "metadata": {},
   "source": [
    "<br><b>2. Implement a Python program to generate all sentences where subject is in  [\"Americans\", \"Indians\"] and verb is in [\"Play\", \"watch\"] and the object is in  [\"Baseball\",\"cricket\"]. \n",
    "<br>Hint: Subject,Verb and Object should be declared in the program as shown below. \n",
    "<br>subjects=[\"Americans \",\"Indians\"] \n",
    "<br>verbs=[\"play\",\"watch\"] \n",
    "<br>objects=[\"Baseball\",\"Cricket\"] \n",
    "</b>"
   ]
  },
  {
   "cell_type": "code",
   "execution_count": 3,
   "metadata": {},
   "outputs": [
    {
     "name": "stdout",
     "output_type": "stream",
     "text": [
      "Americans Play Baseball\n",
      "Americans Play Cricket\n",
      "Americans watch Baseball\n",
      "Americans watch Cricket\n",
      "Indians Play Baseball\n",
      "Indians Play Cricket\n",
      "Indians watch Baseball\n",
      "Indians watch Cricket\n"
     ]
    }
   ],
   "source": [
    "result = [print(subject + \" \" + verb + \" \" + object) for subject in [\"Americans\", \"Indians\"] for verb in [\"Play\", \"watch\"]for object in [\"Baseball\",\"Cricket\"]]"
   ]
  }
 ],
 "metadata": {
  "kernelspec": {
   "display_name": "Python 3",
   "language": "python",
   "name": "python3"
  },
  "language_info": {
   "codemirror_mode": {
    "name": "ipython",
    "version": 3
   },
   "file_extension": ".py",
   "mimetype": "text/x-python",
   "name": "python",
   "nbconvert_exporter": "python",
   "pygments_lexer": "ipython3",
   "version": "3.8.3"
  }
 },
 "nbformat": 4,
 "nbformat_minor": 4
}
